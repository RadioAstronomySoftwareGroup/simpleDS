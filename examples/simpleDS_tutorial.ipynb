{
 "cells": [
  {
   "cell_type": "code",
   "execution_count": 1,
   "metadata": {},
   "outputs": [
    {
     "data": {
      "text/plain": [
       "<astropy.visualization.units.quantity_support.<locals>.MplQuantityConverter at 0x7f830b11b9b0>"
      ]
     },
     "execution_count": 1,
     "metadata": {},
     "output_type": "execute_result"
    }
   ],
   "source": [
    "%matplotlib widget\n",
    "\n",
    "import os\n",
    "from matplotlib.pyplot import *\n",
    "from matplotlib.colors import LogNorm, SymLogNorm\n",
    "import numpy as np\n",
    "from astropy import units, constants as const\n",
    "from astropy.visualization import quantity_support\n",
    "from pyuvdata import UVData, UVBeam\n",
    "from simpleDS import DelaySpectrum, cosmo as simple_cosmo, utils\n",
    "from simpleDS.data import DATA_PATH\n",
    "# Quantity Support makes plotting with quantities WAY easier.\n",
    "quantity_support();"
   ]
  },
  {
   "cell_type": "code",
   "execution_count": 2,
   "metadata": {},
   "outputs": [],
   "source": [
    "data_file = os.path.join(DATA_PATH, 'test_redundant_array.uvh5')\n",
    "noise_file = os.path.join(DATA_PATH, 'test_redundant_noise_data.uvh5')\n",
    "beam_file = os.path.join(DATA_PATH, 'test_redundant_array.beamfits')"
   ]
  },
  {
   "cell_type": "code",
   "execution_count": 3,
   "metadata": {},
   "outputs": [],
   "source": [
    "# Read in the UVData object\n",
    "uvd = UVData()\n",
    "uvd.read_uvh5(data_file)\n",
    "# It would normally be necessary to also down-select to only one\n",
    "# set of redundant baselines but this PAPER data is already\n",
    "# in that format."
   ]
  },
  {
   "cell_type": "code",
   "execution_count": 4,
   "metadata": {},
   "outputs": [],
   "source": [
    "# This will only take 31 times out of the file, makes it \n",
    "# easier on a personal laptop.\n",
    "# uvd.select(times=np.unique(uvd.time_array)[300:330])"
   ]
  },
  {
   "cell_type": "code",
   "execution_count": 5,
   "metadata": {},
   "outputs": [],
   "source": [
    "# Generate the UVBeam object and read the input file\n",
    "uvb = UVBeam()\n",
    "uvb.read_beamfits(beam_file)"
   ]
  },
  {
   "cell_type": "code",
   "execution_count": 6,
   "metadata": {},
   "outputs": [],
   "source": [
    "# Initialize the delay specturm with the optional inputs\n",
    "# uv (Input UVData object)\n",
    "# uvb (Input UVBeam object)\n",
    "# trcvr (Quantity in K of single receiver temperature or a (Nspws, Nfreqs) array of receiver temperature)\n",
    "ds = DelaySpectrum(uv=uvd, uvb=uvb, trcvr=144 * units.K)\n",
    "\n",
    "# all of these can also be set by calling the functions:\n",
    "# ds.add_uvdata(uvd)\n",
    "# ds.add_uvbeam(uvb)\n",
    "# ds.add_trcvr(trcvr)"
   ]
  },
  {
   "cell_type": "code",
   "execution_count": 7,
   "metadata": {},
   "outputs": [],
   "source": [
    "# The select spectral windows function allows us to \n",
    "# downselect to only a subset of the data and perform the Fourier Transform\n",
    "# Must be a create an array with rectangular shape: (Nspws, Nfreqs)\n",
    "\n",
    "# ds.select_spectral_windows([(0,8), (10, 18)])\n",
    "\n",
    "# Don't be afraid to try new things:\n",
    "# ds.select_spectral_windows([(0,2), (3,5), (6,8)])\n",
    "# ds.select_spectral_windows([(0,9), (10, 19)])\n",
    "\n",
    "# or use the frequencies directly\n",
    "# new_freqs = units.Quantity([ds.freq_array[0,0:10], ds.freq_array[0,10:20]])\n",
    "# ds.select_spectral_windows(freqs=new_freqs)"
   ]
  },
  {
   "cell_type": "code",
   "execution_count": null,
   "metadata": {},
   "outputs": [],
   "source": []
  },
  {
   "cell_type": "code",
   "execution_count": 8,
   "metadata": {},
   "outputs": [],
   "source": [
    "# The build in noise generator needs to get triggered to \n",
    "# generate better. It is a WIP but if you want a noise\n",
    "# simulation along with your input make sure to call this function\n",
    "ds.generate_noise()"
   ]
  },
  {
   "cell_type": "code",
   "execution_count": 9,
   "metadata": {},
   "outputs": [],
   "source": [
    "# Calling `calculate_delay_spectrum` performs the FFT, cross-multiplication\n",
    "# and renormalized to cosmological units.\n",
    "# It also attempts to estimate the expected thermal noise level of the \n",
    "# output simulation\n",
    "ds.calculate_delay_spectrum()"
   ]
  },
  {
   "cell_type": "code",
   "execution_count": 10,
   "metadata": {},
   "outputs": [],
   "source": [
    "# the outputs can be a little daunting to deal with considering \n",
    "# the ds.power_array is an (Nspws, Npols, Nbls, Nbls, Ntimes, Ndelays) array.\n",
    "# simpleDS was built to not care about your spectral windows or polarizations\n",
    "# and can easily vectorize the computations over these axes.\n",
    "# the result however is a bit of a confusing array shape.\n",
    "# still lacking a get_power function, so indexing requires some user thought."
   ]
  },
  {
   "cell_type": "code",
   "execution_count": 11,
   "metadata": {},
   "outputs": [],
   "source": [
    "lsts = ds.lst_array*12./np.pi * units.h"
   ]
  },
  {
   "cell_type": "code",
   "execution_count": 12,
   "metadata": {},
   "outputs": [
    {
     "data": {
      "application/vnd.jupyter.widget-view+json": {
       "model_id": "8770476a6aa5420a91c09cdb3dd21cb0",
       "version_major": 2,
       "version_minor": 0
      },
      "text/plain": [
       "FigureCanvasNbAgg()"
      ]
     },
     "metadata": {},
     "output_type": "display_data"
    }
   ],
   "source": [
    "fig, ax = subplots(1, figsize=(17.5, 10))\n",
    "# norm=LogNorm(vmin=1e13, vmax=1e15)\n",
    "# for the 1st spectral window, on the 0th pol, plot all base cross-multiples (nbls, nbls), at the 0th time  and the 20th delay\n",
    "# this is arbitrary but just want to highlight how to plot the Nbl x Nbl matrix of power for a given spectral window, polarization, time, and k-mode\n",
    "im=ax.pcolormesh(np.abs(ds.power_array[(ds.Nspws-1)//2, 0, :, :, 0, (ds.Ndelays-1)//2]).value, norm=LogNorm()) \n",
    "fig.colorbar(im, ax=ax)\n",
    "\n",
    "center_ticks = np.arange(ds.Nbls)+.5\n",
    "ax.set_xticks(center_ticks)\n",
    "bl_str = ['$({0},{1})$'.format(*uvd.baseline_to_antnums(bl)) for bl in ds.baseline_array ]\n",
    "ax.set_xticklabels(bl_str, rotation=45);\n",
    "ax.set_title(\"z={0:.3f}\\n$k_{{\\parallel}}$ = {1:.3f}\".format(ds.redshift[(ds.Nspws-1)//2], ds.k_parallel[(ds.Nspws-1)//2, ds.Nfreqs-1]))\n",
    "# ax.set_title(\"$k_{{\\parallel}}$\")\n",
    "\n",
    "ax.set_yticks(center_ticks)\n",
    "ax.set_yticklabels(bl_str);\n",
    "fig.subplots_adjust(bottom=.05, top=.95, left=.05, right=.95)\n"
   ]
  },
  {
   "cell_type": "code",
   "execution_count": 13,
   "metadata": {},
   "outputs": [
    {
     "data": {
      "application/vnd.jupyter.widget-view+json": {
       "model_id": "dabbee70c67145cfbcd7fc6b1eeeea08",
       "version_major": 2,
       "version_minor": 0
      },
      "text/plain": [
       "FigureCanvasNbAgg()"
      ]
     },
     "metadata": {},
     "output_type": "display_data"
    }
   ],
   "source": [
    "fig, ax = subplots(1, figsize=(9, 5))\n",
    "norm=LogNorm(vmin=1e1, vmax=1e16)\n",
    "# If we want to plot a waterfall of time versus delay for the cross multple of baseline number 27 * baseline number 28:\n",
    "bl1, bl2 = ds.baseline_array[27], ds.baseline_array[28]\n",
    "ants1 = uvd.baseline_to_antnums(bl1)\n",
    "ants2 = uvd.baseline_to_antnums(bl2)\n",
    "im=ax.pcolorfast(ds.delay_array.to('ns'), lsts, np.abs(ds.power_array[(ds.Nspws-1)//2, 0, 27, 28, :, :]).value, norm=norm)\n",
    "fig.colorbar(im, ax=ax)\n",
    "y_lim = [np.max(ax.get_ylim()), np.min(ax.get_ylim())]\n",
    "ax.set_title(\"z={0:.3f}\\n({1},{2})$\\\\times$({3},{4})\".format(ds.redshift[(ds.Nspws-1)//2], ants1[0], ants1[1], ants2[0], ants2[1]))\n",
    "ax.set_ylim(y_lim)\n",
    "ax.set_xlabel(\"$\\\\tau$ [ns]\")\n",
    "ax.set_ylabel(\"LST [hours]\")\n",
    "fig.subplots_adjust(top=.9)"
   ]
  },
  {
   "cell_type": "code",
   "execution_count": 14,
   "metadata": {},
   "outputs": [
    {
     "data": {
      "application/vnd.jupyter.widget-view+json": {
       "model_id": "c0df07e6684445178f376496205a4a1f",
       "version_major": 2,
       "version_minor": 0
      },
      "text/plain": [
       "FigureCanvasNbAgg()"
      ]
     },
     "metadata": {},
     "output_type": "display_data"
    }
   ],
   "source": [
    "fig, ax = subplots(ncols=ds.Nspws, figsize=(10,5), squeeze=False, sharey=True)\n",
    "\n",
    "# There's a lot of restructuring going on in these plots, but all it does is create an Nbls*Nbls*times, Ndelays array for each spectral window\n",
    "# then plots each power spectrum in gray, the average over the first axis in black for the read file and blue for the noise simulation\n",
    "# Plotted on top is the averaged thermal noise estimate in dashed red.\n",
    "for cnt, _ax in enumerate(ax[0]):\n",
    "    _ax.set_title(\"z={0:.3f}\".format(ds.redshift[cnt]))\n",
    "    _ax.plot(ds.delay_array, np.abs(ds.power_array[cnt,:,:,:,:].reshape(ds.Nbls*ds.Nbls*ds.Ntimes,ds.Ndelays).T.real)/units.littleh**3, '', linestyle='-',color='grey', alpha=.2, mfc='none')\n",
    "    _ax.plot(ds.delay_array, np.abs(ds.power_array[cnt,:,:,:,:].reshape(ds.Nbls*ds.Nbls*ds.Ntimes,ds.Ndelays).mean(0).real)/units.littleh**3, '', linestyle='-',color='black', mfc='none')\n",
    "    _ax.plot(ds.delay_array, np.abs(ds.noise_power[cnt,:,:,:,:].reshape(ds.Nbls*ds.Nbls*ds.Ntimes,ds.Ndelays).mean(0).real)/units.littleh**3, '', linestyle='-',color='blue', mfc='none')\n",
    "    _ax.axhline( ds.thermal_power[cnt,0,:,:,:].reshape(ds.Nbls*ds.Nbls*ds.Ntimes,1).mean(0).real/units.littleh**3, linestyle='--', color='red', linewidth=4)\n",
    "    \n",
    "    # ax.plot(ds.delay_array, np.abs(ds.power_array[1,0,28,27,:].T.imag), '',linestyle='--')\n",
    "    _ax.grid()\n",
    "    _ax.set_yscale('log')\n",
    "    _ax.set_xlabel(\"$\\\\tau$ [ns]\")\n",
    "\n",
    "y_lim = ax[0][0].get_ylim()\n",
    "y_ticklabels = [\"10^{0:d}\".format(x) for x in np.arange(np.log10(y_lim[0]), np.log10(y_lim[1])+1, dtype=np.int)]\n",
    "y_ticks = [10**x for x in np.arange(np.log10(y_lim[0]), np.log10(y_lim[1])+1, dtype=np.int)]\n",
    "ax[0][0].set_yticks(y_ticks);"
   ]
  },
  {
   "cell_type": "code",
   "execution_count": 16,
   "metadata": {},
   "outputs": [],
   "source": [
    "# Here i was curious and wanted to plot the output of what the System Temperature looks like\n",
    "# SimpleDS uses the 180K@180MHz relation ship an assumes a spectral index of -2.55\n",
    "# but it's fun to look at some times\n",
    "\n",
    "thermal_noise_samples = utils.combine_nsamples(ds.nsample_array[:, 0], ds.nsample_array[:, 0],  axis=2)\n",
    "lst_bins = (np.size(ds.lst_array) * np.diff(ds.lst_array)[0] * 12.\n",
    "                    / np.pi * 3600 * units.s / ds.integration_time.to('s'))\n",
    "npols_noise = np.array([2 if p in np.arange(1, 5) else 1\n",
    "                        for p in ds.polarization_array])\n",
    "npols_noise = npols_noise.reshape(1, 1, ds.Npols, 1, 1, 1)\n",
    "Tsys = 180. * units.K * np.power(ds.freq_array / (.18 * units.GHz), -2.55)\n",
    "Tsys += ds.trcvr.to('K')\n",
    "Tsys = Tsys.reshape(ds.Nspws, 1, 1, 1, 1, ds.Nfreqs)\n"
   ]
  },
  {
   "cell_type": "code",
   "execution_count": 17,
   "metadata": {},
   "outputs": [
    {
     "data": {
      "application/vnd.jupyter.widget-view+json": {
       "model_id": "2b25bd4b1bcc48b98f6835d001b6484b",
       "version_major": 2,
       "version_minor": 0
      },
      "text/plain": [
       "FigureCanvasNbAgg()"
      ]
     },
     "metadata": {},
     "output_type": "display_data"
    }
   ],
   "source": [
    "fig,ax =subplots(1)\n",
    "for spw, freqs in enumerate(ds.freq_array):\n",
    "    ax.plot(freqs.to('MHz'), Tsys[spw].squeeze().to('K'))"
   ]
  }
 ],
 "metadata": {
  "kernelspec": {
   "display_name": "py3",
   "language": "python",
   "name": "py3"
  },
  "language_info": {
   "codemirror_mode": {
    "name": "ipython",
    "version": 3
   },
   "file_extension": ".py",
   "mimetype": "text/x-python",
   "name": "python",
   "nbconvert_exporter": "python",
   "pygments_lexer": "ipython3",
   "version": "3.6.8"
  }
 },
 "nbformat": 4,
 "nbformat_minor": 2
}
